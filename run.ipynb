{
 "cells": [
  {
   "cell_type": "code",
   "execution_count": null,
   "metadata": {},
   "outputs": [],
   "source": [
    "from training import *"
   ]
  },
  {
   "cell_type": "markdown",
   "metadata": {},
   "source": [
    "Returns the data, split into training, validation and test. \n",
    "\n",
    "Choose the number of time steps (events of each samples) by changing the number_time_steps variable.\n",
    "The version variable and the columns varable is used to pick the features of the events. \n",
    "\n",
    "    version = 'start_pos' # only extract the start position. \n",
    "   \n",
    "    version = 'best' # extracts the best features found in experiments\n",
    "   \n",
    "    version = 'pick_col' # chooses the columns specified in the columns variable\n",
    "   \n",
    "    version = 'remove_col' # removes the columns specified in the columns variable\n",
    "   \n",
    "\n",
    "After running the cell the columns actually chosen can be accessed by running dataset.col"
   ]
  },
  {
   "cell_type": "code",
   "execution_count": null,
   "metadata": {},
   "outputs": [],
   "source": [
    "dataset_name = 'fotball'\n",
    "number_time_steps = 10\n",
    "version = 'best'\n",
    "columns = []\n",
    "resample = False\n",
    "dataset, (X_train, y_train), (X_val, y_val), (X_test, y_test) = read_data(dataset_name, number_time_steps, version, resample, columns)"
   ]
  },
  {
   "cell_type": "markdown",
   "metadata": {},
   "source": [
    "Runs a training session. \n",
    "Choose the type of network archtecture by changing the network_type variable.\n",
    "Choose the number of configurations to train by changing the number_combinations variable.\n",
    "Choose the number of times to train each configuration by changing the number_training_per_combinatination variable."
   ]
  },
  {
   "cell_type": "code",
   "execution_count": null,
   "metadata": {},
   "outputs": [],
   "source": [
    "network_type = 'lstm' # one in ['mlp', 'conv1', 'conv2', 'lstm', 'conv_lstm']\n",
    "number_combinations = 10 # number of combinations of hyperparameters to test\n",
    "number_training_per_combinatination = 3 # number of time to train each combination of parameters\n",
    "\n",
    "# total number of trainings done is number_combinations * number_training_per_combinatination\n",
    "hists = run_training(dataset, network_type, number_combinations, X_train, y_train, X_val, y_val, number_training_per_combinatination)\n",
    "sorted_hists, goal_metric = summarize_set(hists)"
   ]
  },
  {
   "cell_type": "markdown",
   "metadata": {},
   "source": [
    "Retrains the best configuration. \n",
    "Will keep a model with higher metric than during the initial training, or the last out of 10 training runs. "
   ]
  },
  {
   "cell_type": "code",
   "execution_count": null,
   "metadata": {},
   "outputs": [],
   "source": [
    "# retrain best configuration\n",
    "retrained_model, retrain_hist = retrain_from_conf(sorted_hists[0]['configuration'], dataset, X_train, y_train, X_val, y_val, goal_metric)\n",
    "# evaluate best model on test dataset\n",
    "test_hist = evaluate_model(retrained_model, X_test, y_test, dataset.name) \n",
    "# save training history\n",
    "out = save_session(sorted_hists[0]['configuration'], dataset, retrain_hist, test_hist, save_file=True, filename=None)\n",
    "# print shot summary\n",
    "print_retrain_summary(retrain_hist, test_hist, dataset.col, out['dataset']['main_metric'], goal_metric)"
   ]
  }
 ],
 "metadata": {
  "kernelspec": {
   "display_name": "Python 3",
   "language": "python",
   "name": "python3"
  },
  "language_info": {
   "codemirror_mode": {
    "name": "ipython",
    "version": 3
   },
   "file_extension": ".py",
   "mimetype": "text/x-python",
   "name": "python",
   "nbconvert_exporter": "python",
   "pygments_lexer": "ipython3",
   "version": "3.7.7"
  }
 },
 "nbformat": 4,
 "nbformat_minor": 4
}
